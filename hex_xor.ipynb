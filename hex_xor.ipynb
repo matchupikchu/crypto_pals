{
 "cells": [
  {
   "cell_type": "code",
   "execution_count": 23,
   "metadata": {
    "collapsed": false
   },
   "outputs": [
    {
     "name": "stdout",
     "output_type": "stream",
     "text": [
      "746865206b696420646f6e277420706c6179\n"
     ]
    }
   ],
   "source": [
    "def convert_to_bin(x):\n",
    "    \n",
    "    if x == '0':\n",
    "        return bin(0)[2:].zfill(4)\n",
    "    if x == '1':\n",
    "        return bin(1)[2:].zfill(4)\n",
    "    if x == '2':\n",
    "        return bin(2)[2:].zfill(4)\n",
    "    if x == '3':\n",
    "        return bin(3)[2:].zfill(4)\n",
    "    if x == '4':\n",
    "        return bin(4)[2:].zfill(4)\n",
    "    if x == '5':\n",
    "        return bin(5)[2:].zfill(4)\n",
    "    if x == '6':\n",
    "        return bin(6)[2:].zfill(4)\n",
    "    if x == '7':\n",
    "        return bin(7)[2:].zfill(4)\n",
    "    if x == '8':\n",
    "        return bin(8)[2:].zfill(4)\n",
    "    if x == '9':\n",
    "        return bin(9)[2:].zfill(4)\n",
    "    if x == 'a':\n",
    "        return bin(10)[2:].zfill(4)\n",
    "    if x == 'b':\n",
    "        return bin(11)[2:].zfill(4)\n",
    "    if x == 'c':\n",
    "        return bin(12)[2:].zfill(4)\n",
    "    if x == 'd':\n",
    "        return bin(13)[2:].zfill(4)\n",
    "    if x == 'e':\n",
    "        return bin(14)[2:].zfill(4)\n",
    "    if x == 'f':\n",
    "        return bin(15)[2:].zfill(4)\n",
    "\n",
    "def convert_to_hex(x):\n",
    "    if x == '0000':\n",
    "        return '0'\n",
    "    if x == '0001':\n",
    "        return '1'\n",
    "    if x == '0010':\n",
    "        return '2'\n",
    "    if x == '0011':\n",
    "        return '3'\n",
    "    if x == '0100':\n",
    "        return '4'\n",
    "    if x == '0101':\n",
    "        return '5'\n",
    "    if x == '0110':\n",
    "        return '6'\n",
    "    if x == '0111':\n",
    "        return '7'\n",
    "    if x == '1000':\n",
    "        return '8'\n",
    "    if x == '1001':\n",
    "        return '9'\n",
    "    if x == '1010':\n",
    "        return 'a'\n",
    "    if x == '1011':\n",
    "        return 'b'\n",
    "    if x == '1100':\n",
    "        return 'c'\n",
    "    if x == '1101':\n",
    "        return 'd'\n",
    "    if x == '1110':\n",
    "        return 'e'\n",
    "    if x == '1111':\n",
    "        return 'f'\n",
    "\n",
    "def merge_conversion_to_bin(x):\n",
    "    out = \"\"\n",
    "    for i in x:\n",
    "        out += convert_to_bin(i)\n",
    "    return out\n",
    "\n",
    "def merge_conversion_to_hex(x):\n",
    "    out = []\n",
    "    for i in x:\n",
    "        out += [convert_to_hex(i)]\n",
    "    return out\n",
    "\n",
    "def xor(x, y):\n",
    "    out = \"\"\n",
    "    for i, j in zip(x, y):\n",
    "        out += str(int(i) ^ int(j))\n",
    "    return out\n",
    "\n",
    "def bin_to_hex(x):\n",
    "    chunks, chunk_size = len(x), 4\n",
    "    out = merge_conversion_to_hex([ x[i:i+chunk_size] for i in range(0, chunks, chunk_size) ])\n",
    "    return ''.join(map(str, out))\n",
    "\n",
    "def hex_xor(x, y):\n",
    "    \n",
    "    bin_x = merge_conversion_to_bin(x)\n",
    "    bin_y = merge_conversion_to_bin(y)\n",
    "    \n",
    "    xored = xor(bin_x, bin_y)\n",
    "    \n",
    "    return bin_to_hex(xored)\n",
    "    \n",
    "x = \"1c0111001f010100061a024b53535009181c\"\n",
    "y = \"686974207468652062756c6c277320657965\"\n",
    "\n",
    "\n",
    "print(hex_xor(x, y))"
   ]
  },
  {
   "cell_type": "code",
   "execution_count": 9,
   "metadata": {
    "collapsed": false
   },
   "outputs": [
    {
     "data": {
      "text/plain": [
       "7"
      ]
     },
     "execution_count": 9,
     "metadata": {
     },
     "output_type": "execute_result"
    }
   ],
   "source": [
   ]
  },
  {
   "cell_type": "code",
   "execution_count": 0,
   "metadata": {
    "collapsed": false
   },
   "outputs": [
   ],
   "source": [
   ]
  }
 ],
 "metadata": {
  "kernelspec": {
   "display_name": "Python 3 (system-wide)",
   "language": "python",
   "metadata": {
    "cocalc": {
     "description": "Python 3 programming language",
     "priority": 100,
     "url": "https://www.python.org/"
    }
   },
   "name": "python3",
   "resource_dir": "/ext/jupyter/kernels/python3"
  },
  "language_info": {
   "codemirror_mode": {
    "name": "ipython",
    "version": 3
   },
   "file_extension": ".py",
   "mimetype": "text/x-python",
   "name": "python",
   "nbconvert_exporter": "python",
   "pygments_lexer": "ipython3",
   "version": "3.8.5"
  }
 },
 "nbformat": 4,
 "nbformat_minor": 4
}